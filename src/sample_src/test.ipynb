{
 "cells": [
  {
   "cell_type": "code",
   "execution_count": 4,
   "id": "e0ef4485",
   "metadata": {},
   "outputs": [
    {
     "name": "stdout",
     "output_type": "stream",
     "text": [
      "Requirement already satisfied: scikit-learn in c:\\users\\mojih\\anaconda3\\envs\\dl\\lib\\site-packages (1.6.1)\n",
      "Requirement already satisfied: numpy>=1.19.5 in c:\\users\\mojih\\anaconda3\\envs\\dl\\lib\\site-packages (from scikit-learn) (2.1.2)\n",
      "Requirement already satisfied: scipy>=1.6.0 in c:\\users\\mojih\\anaconda3\\envs\\dl\\lib\\site-packages (from scikit-learn) (1.15.3)\n",
      "Requirement already satisfied: joblib>=1.2.0 in c:\\users\\mojih\\anaconda3\\envs\\dl\\lib\\site-packages (from scikit-learn) (1.5.0)\n",
      "Requirement already satisfied: threadpoolctl>=3.1.0 in c:\\users\\mojih\\anaconda3\\envs\\dl\\lib\\site-packages (from scikit-learn) (3.6.0)\n",
      "Note: you may need to restart the kernel to use updated packages.\n"
     ]
    }
   ],
   "source": [
    "%pip install -U scikit-learn"
   ]
  },
  {
   "cell_type": "code",
   "execution_count": null,
   "id": "f12d9dc3",
   "metadata": {},
   "outputs": [],
   "source": [
    "import pandas as pd\n",
    "import pickle\n",
    "from sklearn.model_selection import train_test_split, GridSearchCV\n",
    "from sklearn.preprocessing import StandardScaler\n",
    "from sklearn.metrics import mean_squared_error, mean_absolute_error, r2_score\n",
    "import matplotlib.pyplot as plt\n",
    "import seaborn as sns\n",
    "from metrics import print_regression_metrcis\n",
    "from sklearn.svm import SVR\n",
    "# 데이터 불러오기\n",
    "df = pd.read_csv(\"mlb최종.csv\", encoding=\"cp949\")\n"
   ]
  },
  {
   "cell_type": "code",
   "execution_count": 8,
   "id": "9f5a970f",
   "metadata": {},
   "outputs": [
    {
     "ename": "NameError",
     "evalue": "name 'SVR' is not defined",
     "output_type": "error",
     "traceback": [
      "\u001b[31m---------------------------------------------------------------------------\u001b[39m",
      "\u001b[31mNameError\u001b[39m                                 Traceback (most recent call last)",
      "\u001b[36mCell\u001b[39m\u001b[36m \u001b[39m\u001b[32mIn[8]\u001b[39m\u001b[32m, line 23\u001b[39m\n\u001b[32m     15\u001b[39m param_grid = {\n\u001b[32m     16\u001b[39m     \u001b[33m'\u001b[39m\u001b[33mC\u001b[39m\u001b[33m'\u001b[39m: [\u001b[32m0.1\u001b[39m, \u001b[32m1\u001b[39m, \u001b[32m10\u001b[39m],\n\u001b[32m     17\u001b[39m     \u001b[33m'\u001b[39m\u001b[33mkernel\u001b[39m\u001b[33m'\u001b[39m: [\u001b[33m'\u001b[39m\u001b[33mrbf\u001b[39m\u001b[33m'\u001b[39m, \u001b[33m'\u001b[39m\u001b[33mlinear\u001b[39m\u001b[33m'\u001b[39m, \u001b[33m'\u001b[39m\u001b[33mpoly\u001b[39m\u001b[33m'\u001b[39m],\n\u001b[32m     18\u001b[39m     \u001b[33m'\u001b[39m\u001b[33mepsilon\u001b[39m\u001b[33m'\u001b[39m: [\u001b[32m0.1\u001b[39m, \u001b[32m0.2\u001b[39m, \u001b[32m0.5\u001b[39m]\n\u001b[32m     19\u001b[39m }\n\u001b[32m     21\u001b[39m \u001b[38;5;66;03m# GridSearchCV 설정\u001b[39;00m\n\u001b[32m     22\u001b[39m grid_search = GridSearchCV(\n\u001b[32m---> \u001b[39m\u001b[32m23\u001b[39m     estimator=\u001b[43mSVR\u001b[49m(),\n\u001b[32m     24\u001b[39m     param_grid=param_grid,\n\u001b[32m     25\u001b[39m     cv=\u001b[32m3\u001b[39m,\n\u001b[32m     26\u001b[39m     scoring=\u001b[33m'\u001b[39m\u001b[33mneg_mean_squared_error\u001b[39m\u001b[33m'\u001b[39m,\n\u001b[32m     27\u001b[39m     n_jobs=-\u001b[32m1\u001b[39m,\n\u001b[32m     28\u001b[39m     verbose=\u001b[32m2\u001b[39m\n\u001b[32m     29\u001b[39m )\n\u001b[32m     31\u001b[39m \u001b[38;5;66;03m# 학습\u001b[39;00m\n\u001b[32m     32\u001b[39m grid_search.fit(X_train, y_train)\n",
      "\u001b[31mNameError\u001b[39m: name 'SVR' is not defined"
     ]
    }
   ],
   "source": [
    "df['retire_age'] = df['retire_year'] - df['birth_year']\n",
    "df_clean = df.dropna()\n",
    "\n",
    "# 피처와 타겟\n",
    "feature_cols = ['G', 'AB', 'H', '2B', '3B', 'HR', 'BB', 'SO', 'RBI', 'R', 'SB', 'CS', 'AVG', 'OBP', 'SLG', 'OPS']\n",
    "X = df_clean[feature_cols]\n",
    "y = df_clean['retire_age']\n",
    "\n",
    "# 정규화 및 분할\n",
    "scaler = StandardScaler()\n",
    "X_scaled = scaler.fit_transform(X)\n",
    "X_train, X_val, y_train, y_val = train_test_split(X_scaled, y, test_size=0.2, random_state=42)\n",
    "\n",
    "# SVR 하이퍼파라미터 후보\n",
    "param_grid = {\n",
    "    'C': [0.1, 1, 10],\n",
    "    'kernel': ['rbf', 'linear', 'poly'],\n",
    "    'epsilon': [0.1, 0.2, 0.5]\n",
    "}\n",
    "\n",
    "# GridSearchCV 설정\n",
    "grid_search = GridSearchCV(\n",
    "    estimator=SVR(),\n",
    "    param_grid=param_grid,\n",
    "    cv=3,\n",
    "    scoring='neg_mean_squared_error',\n",
    "    n_jobs=-1,\n",
    "    verbose=2\n",
    ")\n",
    "\n",
    "# 학습\n",
    "grid_search.fit(X_train, y_train)\n",
    "\n",
    "# 예측\n",
    "best_model = grid_search.best_estimator_\n",
    "y_pred = best_model.predict(X_val)\n",
    "\n",
    "# 평가\n",
    "print(\"Best Params:\", grid_search.best_params_)\n",
    "print_regression_metrcis(y_val, y_pred, \"최적 SVR 모델 성능\")\n",
    "\n",
    "# 평가지표 저장\n",
    "mse = mean_squared_error(y_val, y_pred)\n",
    "mae = mean_absolute_error(y_val, y_pred)\n",
    "r2 = r2_score(y_val, y_pred)\n",
    "\n",
    "metrics_result = {\n",
    "    \"Best Params\": grid_search.best_params_,\n",
    "    \"MAE\": mae,\n",
    "    \"MSE\": mse,\n",
    "    \"R2\": r2\n",
    "}\n",
    "\n",
    "# 결과 정리\n",
    "results = pd.DataFrame(grid_search.cv_results_)\n",
    "results['mean_MSE'] = -results['mean_test_score']\n",
    "results['param_C'] = results['param_C'].astype(str)\n",
    "results['param_kernel'] = results['param_kernel'].astype(str)\n",
    "\n",
    "# 시각화\n",
    "plt.rcParams['font.family'] = 'Malgun Gothic'\n",
    "plt.figure(figsize=(10, 6))\n",
    "ax = sns.barplot(\n",
    "    data=results,\n",
    "    x='param_C',\n",
    "    y='mean_MSE',\n",
    "    hue='param_kernel',\n",
    "    palette=\"Set2\",\n",
    "    errorbar=None  # 오차막대 제거\n",
    ")\n",
    "\n",
    "for container in ax.containers:\n",
    "    ax.bar_label(container, fmt='%.2f', label_type='edge', fontsize=9)\n",
    "\n",
    "plt.title(\"SVR 하이퍼파라미터 성능 비교 (MSE ↓)\")\n",
    "plt.ylabel(\"평균 제곱 오차 (MSE)\")\n",
    "plt.xlabel(\"패널티 계수 (C)\")\n",
    "plt.legend(title=\"커널 (kernel)\")\n",
    "plt.grid(axis='y')\n",
    "plt.tight_layout()\n",
    "plt.savefig(\"svr_hyperparameter_mse.png\", dpi=300)\n",
    "plt.show()\n",
    "\n",
    "# 저장\n",
    "with open(\"metrics_svr.pkl\", \"wb\") as f:\n",
    "    pickle.dump(metrics_result, f)\n",
    "\n",
    "df_metrics = pd.DataFrame([metrics_result])\n",
    "df_metrics.to_csv(\"metrics_svr.csv\", index=False, encoding='utf-8-sig')\n",
    "print(\"✅ metrics_svr.csv 저장 완료\")\n"
   ]
  },
  {
   "cell_type": "code",
   "execution_count": 12,
   "id": "45e1998f",
   "metadata": {},
   "outputs": [
    {
     "name": "stdout",
     "output_type": "stream",
     "text": [
      "✅ metrics_rf.csv 저장 완료\n"
     ]
    }
   ],
   "source": [
    "df_metrics = pd.DataFrame([metrics_result])  # 한 줄짜리 DataFrame\n",
    "df_metrics.to_csv(\"metrics_rf.csv\", index=False, encoding='utf-8-sig')\n",
    "print(\"✅ metrics_rf.csv 저장 완료\")"
   ]
  },
  {
   "cell_type": "code",
   "execution_count": null,
   "id": "d4ad2849",
   "metadata": {},
   "outputs": [
    {
     "name": "stdout",
     "output_type": "stream",
     "text": [
      "Collecting seaborn\n",
      "  Downloading seaborn-0.13.2-py3-none-any.whl.metadata (5.4 kB)\n",
      "Requirement already satisfied: numpy!=1.24.0,>=1.20 in c:\\users\\mojih\\anaconda3\\envs\\dl\\lib\\site-packages (from seaborn) (2.1.2)\n",
      "Requirement already satisfied: pandas>=1.2 in c:\\users\\mojih\\anaconda3\\envs\\dl\\lib\\site-packages (from seaborn) (2.2.3)\n",
      "Requirement already satisfied: matplotlib!=3.6.1,>=3.4 in c:\\users\\mojih\\anaconda3\\envs\\dl\\lib\\site-packages (from seaborn) (3.10.1)\n",
      "Requirement already satisfied: contourpy>=1.0.1 in c:\\users\\mojih\\anaconda3\\envs\\dl\\lib\\site-packages (from matplotlib!=3.6.1,>=3.4->seaborn) (1.3.2)\n",
      "Requirement already satisfied: cycler>=0.10 in c:\\users\\mojih\\anaconda3\\envs\\dl\\lib\\site-packages (from matplotlib!=3.6.1,>=3.4->seaborn) (0.12.1)\n",
      "Requirement already satisfied: fonttools>=4.22.0 in c:\\users\\mojih\\anaconda3\\envs\\dl\\lib\\site-packages (from matplotlib!=3.6.1,>=3.4->seaborn) (4.57.0)\n",
      "Requirement already satisfied: kiwisolver>=1.3.1 in c:\\users\\mojih\\anaconda3\\envs\\dl\\lib\\site-packages (from matplotlib!=3.6.1,>=3.4->seaborn) (1.4.8)\n",
      "Requirement already satisfied: packaging>=20.0 in c:\\users\\mojih\\anaconda3\\envs\\dl\\lib\\site-packages (from matplotlib!=3.6.1,>=3.4->seaborn) (25.0)\n",
      "Requirement already satisfied: pillow>=8 in c:\\users\\mojih\\anaconda3\\envs\\dl\\lib\\site-packages (from matplotlib!=3.6.1,>=3.4->seaborn) (11.0.0)\n",
      "Requirement already satisfied: pyparsing>=2.3.1 in c:\\users\\mojih\\anaconda3\\envs\\dl\\lib\\site-packages (from matplotlib!=3.6.1,>=3.4->seaborn) (3.2.3)\n",
      "Requirement already satisfied: python-dateutil>=2.7 in c:\\users\\mojih\\anaconda3\\envs\\dl\\lib\\site-packages (from matplotlib!=3.6.1,>=3.4->seaborn) (2.9.0.post0)\n",
      "Requirement already satisfied: pytz>=2020.1 in c:\\users\\mojih\\anaconda3\\envs\\dl\\lib\\site-packages (from pandas>=1.2->seaborn) (2025.2)\n",
      "Requirement already satisfied: tzdata>=2022.7 in c:\\users\\mojih\\anaconda3\\envs\\dl\\lib\\site-packages (from pandas>=1.2->seaborn) (2025.2)\n",
      "Requirement already satisfied: six>=1.5 in c:\\users\\mojih\\anaconda3\\envs\\dl\\lib\\site-packages (from python-dateutil>=2.7->matplotlib!=3.6.1,>=3.4->seaborn) (1.17.0)\n",
      "Downloading seaborn-0.13.2-py3-none-any.whl (294 kB)\n",
      "Installing collected packages: seaborn\n",
      "Successfully installed seaborn-0.13.2\n",
      "Note: you may need to restart the kernel to use updated packages.\n"
     ]
    }
   ],
   "source": [
    "# 피클 불러오기 코드\n",
    "with open(\"metrics_rf.pkl\", \"rb\") as f:\n",
    "    loaded_metrics = pickle.load(f)\n",
    "\n",
    "# 출력\n",
    "print(\"\\n📂 저장된 평가 지표 불러오기:\")\n",
    "for key, value in loaded_metrics.items():\n",
    "    print(f\"{key}: {value}\")"
   ]
  },
  {
   "cell_type": "code",
   "execution_count": null,
   "id": "74ac0d26",
   "metadata": {},
   "outputs": [],
   "source": []
  }
 ],
 "metadata": {
  "kernelspec": {
   "display_name": "dl",
   "language": "python",
   "name": "python3"
  },
  "language_info": {
   "codemirror_mode": {
    "name": "ipython",
    "version": 3
   },
   "file_extension": ".py",
   "mimetype": "text/x-python",
   "name": "python",
   "nbconvert_exporter": "python",
   "pygments_lexer": "ipython3",
   "version": "3.12.10"
  }
 },
 "nbformat": 4,
 "nbformat_minor": 5
}
