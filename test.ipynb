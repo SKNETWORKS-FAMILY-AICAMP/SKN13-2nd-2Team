{
 "cells": [
  {
   "cell_type": "code",
   "execution_count": 2,
   "id": "fe3d5a32",
   "metadata": {},
   "outputs": [
    {
     "data": {
      "text/html": [
       "<div>\n",
       "<style scoped>\n",
       "    .dataframe tbody tr th:only-of-type {\n",
       "        vertical-align: middle;\n",
       "    }\n",
       "\n",
       "    .dataframe tbody tr th {\n",
       "        vertical-align: top;\n",
       "    }\n",
       "\n",
       "    .dataframe thead th {\n",
       "        text-align: right;\n",
       "    }\n",
       "</style>\n",
       "<table border=\"1\" class=\"dataframe\">\n",
       "  <thead>\n",
       "    <tr style=\"text-align: right;\">\n",
       "      <th></th>\n",
       "      <th>Tables_in_brp</th>\n",
       "    </tr>\n",
       "  </thead>\n",
       "  <tbody>\n",
       "    <tr>\n",
       "      <th>0</th>\n",
       "      <td>kbo_active</td>\n",
       "    </tr>\n",
       "    <tr>\n",
       "      <th>1</th>\n",
       "      <td>kbo_active_total</td>\n",
       "    </tr>\n",
       "    <tr>\n",
       "      <th>2</th>\n",
       "      <td>kbo_final_team_2025</td>\n",
       "    </tr>\n",
       "    <tr>\n",
       "      <th>3</th>\n",
       "      <td>kbo_retired</td>\n",
       "    </tr>\n",
       "    <tr>\n",
       "      <th>4</th>\n",
       "      <td>kbo_retired_total</td>\n",
       "    </tr>\n",
       "  </tbody>\n",
       "</table>\n",
       "</div>"
      ],
      "text/plain": [
       "         Tables_in_brp\n",
       "0           kbo_active\n",
       "1     kbo_active_total\n",
       "2  kbo_final_team_2025\n",
       "3          kbo_retired\n",
       "4    kbo_retired_total"
      ]
     },
     "execution_count": 2,
     "metadata": {},
     "output_type": "execute_result"
    }
   ],
   "source": [
    "from utils.db import get_engine\n",
    "import pandas as pd\n",
    "\n",
    "engine = get_engine()\n",
    "\n",
    "# SQL 실행\n",
    "df = pd.read_sql(\"SHOW TABLES;\", con=engine)\n",
    "\n",
    "df.head()\n"
   ]
  },
  {
   "cell_type": "code",
   "execution_count": 4,
   "id": "d59d450d",
   "metadata": {},
   "outputs": [
    {
     "data": {
      "text/html": [
       "<div>\n",
       "<style scoped>\n",
       "    .dataframe tbody tr th:only-of-type {\n",
       "        vertical-align: middle;\n",
       "    }\n",
       "\n",
       "    .dataframe tbody tr th {\n",
       "        vertical-align: top;\n",
       "    }\n",
       "\n",
       "    .dataframe thead th {\n",
       "        text-align: right;\n",
       "    }\n",
       "</style>\n",
       "<table border=\"1\" class=\"dataframe\">\n",
       "  <thead>\n",
       "    <tr style=\"text-align: right;\">\n",
       "      <th></th>\n",
       "      <th>unique_pic_url_count</th>\n",
       "    </tr>\n",
       "  </thead>\n",
       "  <tbody>\n",
       "    <tr>\n",
       "      <th>0</th>\n",
       "      <td>278</td>\n",
       "    </tr>\n",
       "  </tbody>\n",
       "</table>\n",
       "</div>"
      ],
      "text/plain": [
       "   unique_pic_url_count\n",
       "0                   278"
      ]
     },
     "execution_count": 4,
     "metadata": {},
     "output_type": "execute_result"
    }
   ],
   "source": [
    "df = pd.read_sql(\"SELECT COUNT(DISTINCT pic_url) AS unique_pic_url_count FROM kbo_active\", con=engine)\n",
    "df.head()\n"
   ]
  },
  {
   "cell_type": "code",
   "execution_count": 6,
   "id": "9592f178",
   "metadata": {},
   "outputs": [
    {
     "name": "stdout",
     "output_type": "stream",
     "text": [
      "0 - name\n",
      "1 - pic_url\n",
      "2 - birth\n",
      "3 - season\n",
      "4 - team\n",
      "5 - AVG\n",
      "6 - G\n",
      "7 - PA\n",
      "8 - AB\n",
      "9 - R\n",
      "10 - H\n",
      "11 - 2B\n",
      "12 - 3B\n",
      "13 - HR\n",
      "14 - TB\n",
      "15 - RBI\n",
      "16 - SB\n",
      "17 - CS\n",
      "18 - BB\n",
      "19 - HBP\n",
      "20 - SO\n",
      "21 - GDP\n",
      "22 - SLG\n",
      "23 - OBP\n",
      "24 - E\n"
     ]
    }
   ],
   "source": [
    "df = pd.read_sql(\"SELECT * FROM kbo_active\", con=engine)\n",
    "df.head()\n",
    "\n",
    "for idx, col in enumerate(df.columns):\n",
    "    print(f\"{idx} - {col}\")"
   ]
  },
  {
   "cell_type": "code",
   "execution_count": 7,
   "id": "38ebcbf6",
   "metadata": {},
   "outputs": [
    {
     "data": {
      "text/plain": [
       "Index(['name', 'pic_url', 'birth', 'season', 'team', 'AVG', 'G', 'PA', 'AB',\n",
       "       'R', 'H', '2B', '3B', 'HR', 'TB', 'RBI', 'SB', 'CS', 'BB', 'HBP', 'SO',\n",
       "       'GDP', 'SLG', 'OBP', 'E'],\n",
       "      dtype='object')"
      ]
     },
     "execution_count": 7,
     "metadata": {},
     "output_type": "execute_result"
    }
   ],
   "source": [
    "df.columns"
   ]
  },
  {
   "cell_type": "code",
   "execution_count": 4,
   "id": "3c5e3b30",
   "metadata": {},
   "outputs": [
    {
     "data": {
      "text/html": [
       "<div>\n",
       "<style scoped>\n",
       "    .dataframe tbody tr th:only-of-type {\n",
       "        vertical-align: middle;\n",
       "    }\n",
       "\n",
       "    .dataframe tbody tr th {\n",
       "        vertical-align: top;\n",
       "    }\n",
       "\n",
       "    .dataframe thead th {\n",
       "        text-align: right;\n",
       "    }\n",
       "</style>\n",
       "<table border=\"1\" class=\"dataframe\">\n",
       "  <thead>\n",
       "    <tr style=\"text-align: right;\">\n",
       "      <th></th>\n",
       "      <th>pic_url</th>\n",
       "      <th>name</th>\n",
       "      <th>team</th>\n",
       "    </tr>\n",
       "  </thead>\n",
       "  <tbody>\n",
       "    <tr>\n",
       "      <th>0</th>\n",
       "      <td>https://6ptotvmi5753.edge.naverncp.com/KBO_IMA...</td>\n",
       "      <td>강민성</td>\n",
       "      <td>KT</td>\n",
       "    </tr>\n",
       "    <tr>\n",
       "      <th>1</th>\n",
       "      <td>https://6ptotvmi5753.edge.naverncp.com/KBO_IMA...</td>\n",
       "      <td>강민호</td>\n",
       "      <td>삼성</td>\n",
       "    </tr>\n",
       "    <tr>\n",
       "      <th>2</th>\n",
       "      <td>https://6ptotvmi5753.edge.naverncp.com/KBO_IMA...</td>\n",
       "      <td>강백호</td>\n",
       "      <td>KT</td>\n",
       "    </tr>\n",
       "    <tr>\n",
       "      <th>3</th>\n",
       "      <td>https://6ptotvmi5753.edge.naverncp.com/KBO_IMA...</td>\n",
       "      <td>강성우</td>\n",
       "      <td>롯데</td>\n",
       "    </tr>\n",
       "    <tr>\n",
       "      <th>4</th>\n",
       "      <td>https://6ptotvmi5753.edge.naverncp.com/KBO_IMA...</td>\n",
       "      <td>강승호</td>\n",
       "      <td>두산</td>\n",
       "    </tr>\n",
       "    <tr>\n",
       "      <th>...</th>\n",
       "      <td>...</td>\n",
       "      <td>...</td>\n",
       "      <td>...</td>\n",
       "    </tr>\n",
       "    <tr>\n",
       "      <th>272</th>\n",
       "      <td>https://6ptotvmi5753.edge.naverncp.com/KBO_IMA...</td>\n",
       "      <td>홍현빈</td>\n",
       "      <td>삼성</td>\n",
       "    </tr>\n",
       "    <tr>\n",
       "      <th>273</th>\n",
       "      <td>https://6ptotvmi5753.edge.naverncp.com/KBO_IMA...</td>\n",
       "      <td>황동하</td>\n",
       "      <td>KIA</td>\n",
       "    </tr>\n",
       "    <tr>\n",
       "      <th>274</th>\n",
       "      <td>https://6ptotvmi5753.edge.naverncp.com/KBO_IMA...</td>\n",
       "      <td>황성빈</td>\n",
       "      <td>롯데</td>\n",
       "    </tr>\n",
       "    <tr>\n",
       "      <th>275</th>\n",
       "      <td>https://6ptotvmi5753.edge.naverncp.com/KBO_IMA...</td>\n",
       "      <td>황영묵</td>\n",
       "      <td>한화</td>\n",
       "    </tr>\n",
       "    <tr>\n",
       "      <th>276</th>\n",
       "      <td>https://6ptotvmi5753.edge.naverncp.com/KBO_IMA...</td>\n",
       "      <td>황재균</td>\n",
       "      <td>KT</td>\n",
       "    </tr>\n",
       "  </tbody>\n",
       "</table>\n",
       "<p>277 rows × 3 columns</p>\n",
       "</div>"
      ],
      "text/plain": [
       "                                               pic_url name team\n",
       "0    https://6ptotvmi5753.edge.naverncp.com/KBO_IMA...  강민성   KT\n",
       "1    https://6ptotvmi5753.edge.naverncp.com/KBO_IMA...  강민호   삼성\n",
       "2    https://6ptotvmi5753.edge.naverncp.com/KBO_IMA...  강백호   KT\n",
       "3    https://6ptotvmi5753.edge.naverncp.com/KBO_IMA...  강성우   롯데\n",
       "4    https://6ptotvmi5753.edge.naverncp.com/KBO_IMA...  강승호   두산\n",
       "..                                                 ...  ...  ...\n",
       "272  https://6ptotvmi5753.edge.naverncp.com/KBO_IMA...  홍현빈   삼성\n",
       "273  https://6ptotvmi5753.edge.naverncp.com/KBO_IMA...  황동하  KIA\n",
       "274  https://6ptotvmi5753.edge.naverncp.com/KBO_IMA...  황성빈   롯데\n",
       "275  https://6ptotvmi5753.edge.naverncp.com/KBO_IMA...  황영묵   한화\n",
       "276  https://6ptotvmi5753.edge.naverncp.com/KBO_IMA...  황재균   KT\n",
       "\n",
       "[277 rows x 3 columns]"
      ]
     },
     "execution_count": 4,
     "metadata": {},
     "output_type": "execute_result"
    }
   ],
   "source": [
    "df = pd.read_sql(\"SELECT * FROM kbo_final_team_2025\", con=engine)\n",
    "df"
   ]
  },
  {
   "cell_type": "code",
   "execution_count": 6,
   "id": "81a2abc0",
   "metadata": {},
   "outputs": [],
   "source": [
    "df = pd.read_sql(\"SELECT * FROM kbo_final_team_2025\", con=engine)\n",
    "df.to_csv(\"C:/Users/Playdata/Desktop/project/2nd_pr/SKN13-2nd-2Team/stream_data/kbo_final_team_2025.csv\", index=False, encoding=\"utf-8-sig\")\n",
    "  "
   ]
  },
  {
   "cell_type": "code",
   "execution_count": null,
   "id": "61b94a63",
   "metadata": {},
   "outputs": [],
   "source": []
  }
 ],
 "metadata": {
  "kernelspec": {
   "display_name": ".venv",
   "language": "python",
   "name": "python3"
  },
  "language_info": {
   "codemirror_mode": {
    "name": "ipython",
    "version": 3
   },
   "file_extension": ".py",
   "mimetype": "text/x-python",
   "name": "python",
   "nbconvert_exporter": "python",
   "pygments_lexer": "ipython3",
   "version": "3.13.2"
  }
 },
 "nbformat": 4,
 "nbformat_minor": 5
}
